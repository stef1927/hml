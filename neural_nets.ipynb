{
 "metadata": {
  "name": "neural_nets",
  "signature": "sha256:c7dab2cbe252fcfd76ed2d2c40417e98e343e3c1af99ce1f9baf383375e08c08"
 },
 "nbformat": 3,
 "nbformat_minor": 0,
 "worksheets": [
  {
   "cells": [
    {
     "cell_type": "code",
     "collapsed": false,
     "input": [
      "import os,sys\n",
      "import random,string,math,csv\n",
      "import inspect\n",
      "import pandas\n",
      "import numpy as np\n",
      "import scipy as sci\n",
      "import matplotlib.pyplot as plt"
     ],
     "language": "python",
     "metadata": {},
     "outputs": [],
     "prompt_number": 49
    },
    {
     "cell_type": "markdown",
     "metadata": {},
     "source": [
      "Read the traing set."
     ]
    },
    {
     "cell_type": "code",
     "collapsed": false,
     "input": [
      "all = list(csv.reader(open(\"../data/training.csv\",\"rb\"), delimiter=','))\n",
      "#all = list(csv.reader(open(\"../data/training_sub_set.csv\",\"rb\"), delimiter=','))"
     ],
     "language": "python",
     "metadata": {},
     "outputs": [],
     "prompt_number": 50
    },
    {
     "cell_type": "markdown",
     "metadata": {},
     "source": [
      "Perform feature scaling (x - min) / (max - min) so that all features are between 0 and 1, missing values become 0. "
     ]
    },
    {
     "cell_type": "code",
     "collapsed": false,
     "input": [
      "def normalize(inData, c1, c2):\n",
      "    ret = np.array([map(float, row[c1 : c2]) for row in inData])\n",
      "    ret[ret == -999.0] = np.nan\n",
      "\n",
      "    ret_min = np.nanmin(ret,0)\n",
      "    ret_max = np.nanmax(ret,0)\n",
      "\n",
      "    ret = (ret - ret_min) / (ret_max - ret_min) \n",
      "    ret[np.isnan(ret)] = 0\n",
      "    return ret"
     ],
     "language": "python",
     "metadata": {},
     "outputs": [],
     "prompt_number": 51
    },
    {
     "cell_type": "code",
     "collapsed": false,
     "input": [
      "weights = np.array([float(row[-2]) for row in all[1:]])\n",
      "labels = np.array([map(lambda l: 1.0 if l == 's' else 0.0, row[-1]) for row in all[1:]]).flatten()\n",
      "\n",
      "xs = normalize(all[1:], 1, -2)\n",
      "(numPoints,numFeatures) = xs.shape\n",
      "\n",
      "print xs\n",
      "print xs.shape\n"
     ],
     "language": "python",
     "metadata": {},
     "outputs": [
      {
       "output_type": "stream",
       "stream": "stdout",
       "text": [
        "[[ 0.10940657  0.07485418  0.06812844 ...,  0.63777778  0.10614258\n",
        "   0.06948372]\n",
        " [ 0.1283984   0.09965294  0.07215518 ...,  0.          0.          0.02829991]\n",
        " [ 0.          0.23500634  0.08907077 ...,  0.          0.          0.0270908 ]\n",
        " ..., \n",
        " [ 0.08149997  0.08770931  0.05175641 ...,  0.          0.          0.02570782]\n",
        " [ 0.07261903  0.02805782  0.04652418 ...,  0.          0.          0.        ]\n",
        " [ 0.          0.10543202  0.04802751 ...,  0.          0.          0.        ]]\n",
        "(250000, 30)\n"
       ]
      }
     ],
     "prompt_number": 53
    },
    {
     "cell_type": "markdown",
     "metadata": {},
     "source": [
      "Build training and validation sets:"
     ]
    },
    {
     "cell_type": "code",
     "collapsed": false,
     "input": [
      "sIndexes = labels == 1.0\n",
      "bIndexes = labels == 0.0\n",
      "\n",
      "sumWeights = np.sum(weights)\n",
      "sumSWeights = np.sum(weights[sIndexes])\n",
      "sumBWeights = np.sum(weights[bIndexes])\n",
      "\n",
      "print numPoints, sumWeights, sumSWeights, sumBWeights\n",
      "\n",
      "randomPermutation = random.sample(range(len(xs)), len(xs))\n",
      "#np.savetxt(\"randomPermutation.csv\",randomPermutation,fmt='%d',delimiter=',')\n",
      "#randomPermutation = np.array(map(int,np.array(list(csv.reader(open(\"randomPermutation.csv\",\"rb\"), delimiter=','))).flatten()))\n",
      "\n",
      "numPointsTrain = int(numPoints*0.9)\n",
      "numPointsValidation = numPoints - numPointsTrain\n",
      "\n",
      "xsTrain = xs[randomPermutation[:numPointsTrain]]\n",
      "xsValidation = xs[randomPermutation[numPointsTrain:]]\n",
      "\n",
      "sSelectorTrain = sIndexes[randomPermutation[:numPointsTrain]]\n",
      "bSelectorTrain = bIndexes[randomPermutation[:numPointsTrain]]\n",
      "sSelectorValidation = sIndexes[randomPermutation[numPointsTrain:]]\n",
      "bSelectorValidation = bIndexes[randomPermutation[numPointsTrain:]]\n",
      "\n",
      "weightsTrain = weights[randomPermutation[:numPointsTrain]]\n",
      "weightsValidation = weights[randomPermutation[numPointsTrain:]]\n",
      "\n",
      "labelsTrain = labels[randomPermutation[:numPointsTrain]]\n",
      "labelsValidation = labels[randomPermutation[numPointsTrain:]]\n",
      "\n",
      "sumWeightsTrain = np.sum(weightsTrain)\n",
      "sumSWeightsTrain = np.sum(weightsTrain[sSelectorTrain])\n",
      "sumBWeightsTrain = np.sum(weightsTrain[bSelectorTrain])\n",
      "\n",
      "print numPointsTrain, sumWeightsTrain, sumSWeightsTrain, sumBWeightsTrain"
     ],
     "language": "python",
     "metadata": {},
     "outputs": [
      {
       "output_type": "stream",
       "stream": "stdout",
       "text": [
        "250000 411691.83593 691.988607712 410999.847322\n",
        "225000"
       ]
      },
      {
       "output_type": "stream",
       "stream": "stdout",
       "text": [
        " 370316.014734 622.256554276 369693.75818\n"
       ]
      }
     ],
     "prompt_number": 54
    },
    {
     "cell_type": "heading",
     "level": 3,
     "metadata": {},
     "source": [
      "Build a net using pybrain"
     ]
    },
    {
     "cell_type": "code",
     "collapsed": false,
     "input": [
      "sys.path.append(\"../pybrain\")\n",
      "\n",
      "from pybrain.tools.shortcuts import buildNetwork\n",
      "from pybrain.datasets import SupervisedDataSet, ClassificationDataSet\n",
      "from pybrain.structure.modules   import SoftmaxLayer, LinearLayer, SigmoidLayer\n",
      "from pybrain.supervised.trainers import BackpropTrainer\n",
      "from pybrain.utilities import percentError"
     ],
     "language": "python",
     "metadata": {},
     "outputs": [],
     "prompt_number": 55
    },
    {
     "cell_type": "code",
     "collapsed": false,
     "input": [
      "def buildDataSet(inDs, inLabels, inNumPoints):\n",
      "    ds = ClassificationDataSet(numFeatures)\n",
      "    for i in range(inNumPoints):\n",
      "        ds.addSample(inDs[i], inLabels[i])\n",
      "\n",
      "    ds.calculateStatistics()\n",
      "    ds._convertToOneOfMany(bounds=[0, 1])\n",
      "    return ds\n",
      "\n",
      "dsTrain = buildDataSet(xsTrain, labelsTrain, numPointsTrain)\n",
      "dsValidation = buildDataSet(xsValidation, labelsValidation, numPointsValidation)\n",
      "\n",
      "net = buildNetwork(dsTrain.indim, 100, dsTrain.outdim, outclass=SigmoidLayer, hiddenclass=SigmoidLayer, bias=True, outputbias=False) \n",
      "    \n",
      "trainer = BackpropTrainer(net, dataset=dsTrain, learningrate=0.01, lrdecay=1.0, momentum=0.0, verbose=False, batchlearning=False, weightdecay=0.0)"
     ],
     "language": "python",
     "metadata": {},
     "outputs": [],
     "prompt_number": 56
    },
    {
     "cell_type": "code",
     "collapsed": false,
     "input": [
      "numIterations = 10\n",
      "\n",
      "errorsTrain = np.zeros((numIterations))\n",
      "errorsValidation = np.zeros((numIterations))\n",
      "\n",
      "for i in range(numIterations):\n",
      "    trainer.trainEpochs(1)\n",
      "    resultsTrain = trainer.testOnClassData()\n",
      "    resultsValidation = trainer.testOnClassData(dataset=dsValidation)\n",
      "    errorsTrain[i] = percentError(resultsTrain, dsTrain['class'])\n",
      "    errorsValidation[i] = percentError(resultsValidation, dsValidation['class'])\n",
      "    \n",
      "    print \"epoch: %4d\" % trainer.totalepochs, \"  train error: %5.2f%%\" % errorsTrain[i], \"  test error: %5.2f%%\" % errorsValidation[i]\n"
     ],
     "language": "python",
     "metadata": {},
     "outputs": [
      {
       "output_type": "stream",
       "stream": "stdout",
       "text": [
        "epoch:    1   train error: 28.18%   test error: 28.56%\n",
        "epoch:    2"
       ]
      },
      {
       "output_type": "stream",
       "stream": "stdout",
       "text": [
        "   train error: 24.59%   test error: 24.69%\n",
        "epoch:    3"
       ]
      },
      {
       "output_type": "stream",
       "stream": "stdout",
       "text": [
        "   train error: 23.29%   test error: 23.61%\n",
        "epoch:    4"
       ]
      },
      {
       "output_type": "stream",
       "stream": "stdout",
       "text": [
        "   train error: 22.64%   test error: 23.14%\n",
        "epoch:    5"
       ]
      },
      {
       "output_type": "stream",
       "stream": "stdout",
       "text": [
        "   train error: 22.03%   test error: 22.35%\n",
        "epoch:    6"
       ]
      },
      {
       "output_type": "stream",
       "stream": "stdout",
       "text": [
        "   train error: 21.63%   test error: 21.92%\n",
        "epoch:    7"
       ]
      },
      {
       "output_type": "stream",
       "stream": "stdout",
       "text": [
        "   train error: 22.20%   test error: 22.62%\n",
        "epoch:    8"
       ]
      },
      {
       "output_type": "stream",
       "stream": "stdout",
       "text": [
        "   train error: 21.02%   test error: 21.42%\n",
        "epoch:    9"
       ]
      },
      {
       "output_type": "stream",
       "stream": "stdout",
       "text": [
        "   train error: 20.28%   test error: 20.50%\n",
        "epoch:   10"
       ]
      },
      {
       "output_type": "stream",
       "stream": "stdout",
       "text": [
        "   train error: 19.89%   test error: 20.26%\n"
       ]
      }
     ],
     "prompt_number": 57
    },
    {
     "cell_type": "markdown",
     "metadata": {},
     "source": [
      "Plot the learning errors"
     ]
    },
    {
     "cell_type": "code",
     "collapsed": false,
     "input": [
      "fig = plt.figure()\n",
      "fig.suptitle('Neural nets learning curves', fontsize=14, fontweight='bold')\n",
      "ax = fig.add_subplot(111)\n",
      "fig.subplots_adjust(top=0.85)\n",
      "\n",
      "ax.set_xlabel('number of iterations')\n",
      "ax.set_ylabel('errors')\n",
      "\n",
      "ax.plot(range(numIterations), errorsTrain, 'b-')\n",
      "ax.plot(range(numIterations), errorsValidation, 'r-')\n",
      "\n",
      "ax.axis([0, numIterations, 0, 100])\n",
      "\n",
      "plt.show()"
     ],
     "language": "python",
     "metadata": {},
     "outputs": [],
     "prompt_number": 59
    },
    {
     "cell_type": "markdown",
     "metadata": {},
     "source": [
      "Calculate validation scores and sort them in increasing order of the scores:"
     ]
    },
    {
     "cell_type": "code",
     "collapsed": false,
     "input": [
      "scoresValidation = net.activateOnDataset(dsValidation)[:, 1]\n",
      "#print scoresValidation.transpose()\n",
      "\n",
      "tIIs = scoresValidation.argsort()\n",
      "#print tIIs"
     ],
     "language": "python",
     "metadata": {},
     "outputs": [],
     "prompt_number": 60
    },
    {
     "cell_type": "markdown",
     "metadata": {},
     "source": [
      "We define the Approximate Median Significance:\n",
      "\n",
      "\\begin{equation*}\n",
      "\\text{AMS} = \\sqrt{ 2 \\left( (s + b + 10) \\ln \\left( 1 + \\frac{s}{b +\n",
      "    10} \\right) - s \\right) }\n",
      "\\end{equation*}\n",
      "\n",
      "where <code>s</code> and <code>b</code> are the sum of signal and background weights, respectively, in the selection region."
     ]
    },
    {
     "cell_type": "code",
     "collapsed": false,
     "input": [
      "def AMS(s,b):\n",
      "    assert s >= 0\n",
      "    assert b >= 0\n",
      "    bReg = 10.\n",
      "    return math.sqrt(2 * ((s + b + bReg) * math.log(1 + s / (b + bReg)) - s))"
     ],
     "language": "python",
     "metadata": {},
     "outputs": [],
     "prompt_number": 61
    },
    {
     "cell_type": "markdown",
     "metadata": {},
     "source": [
      "Weights have to be normalized to the same sum as in the full set."
     ]
    },
    {
     "cell_type": "code",
     "collapsed": false,
     "input": [
      "wFactor = 1.* numPoints / numPointsValidation"
     ],
     "language": "python",
     "metadata": {},
     "outputs": [],
     "prompt_number": 62
    },
    {
     "cell_type": "markdown",
     "metadata": {},
     "source": [
      "Initializing $s$ and $b$ to the full sum of weights, we start by having all points in the selection region. <code>amss</code> will contain AMSs after each point moved out of the selection region in the sorted validation set. <code>amsMax</code> will contain the best validation AMS, and <code>threshold</code> will be the smallest score among the selected points. We will do <code>len(tIIs)</code> iterations, which means that <code>amss[-1]</code> is the AMS when only the point with the highest score is selected."
     ]
    },
    {
     "cell_type": "code",
     "collapsed": false,
     "input": [
      "s = np.sum(weightsValidation[sSelectorValidation])\n",
      "b = np.sum(weightsValidation[bSelectorValidation])\n",
      "amss = np.empty([len(tIIs)])\n",
      "amsMax = 0\n",
      "threshold = 0.0\n",
      "for tI in range(len(tIIs)):\n",
      "    # don't forget to renormalize the weights to the same sum \n",
      "    # as in the complete training set\n",
      "    amss[tI] = AMS(max(0,s * wFactor),max(0,b * wFactor))\n",
      "    # careful with small regions, they fluctuate a lot\n",
      "    if tI < 0.9 * len(tIIs) and amss[tI] > amsMax:\n",
      "        amsMax = amss[tI]\n",
      "        threshold = scoresValidation[tIIs[tI]]\n",
      "        #print tI,threshold\n",
      "    if sSelectorValidation[tIIs[tI]]:\n",
      "        s -= weightsValidation[tIIs[tI]]\n",
      "    else:\n",
      "        b -= weightsValidation[tIIs[tI]]"
     ],
     "language": "python",
     "metadata": {},
     "outputs": [],
     "prompt_number": 63
    },
    {
     "cell_type": "markdown",
     "metadata": {},
     "source": [
      "Plotting the AMS vs the rank."
     ]
    },
    {
     "cell_type": "code",
     "collapsed": false,
     "input": [
      "fig = plt.figure()\n",
      "fig.suptitle('AMS curves', fontsize=14, fontweight='bold')\n",
      "vsRank = fig.add_subplot(111)\n",
      "fig.subplots_adjust(top=0.85)\n",
      "\n",
      "vsRank.set_xlabel('rank')\n",
      "vsRank.set_ylabel('AMS')\n",
      "\n",
      "vsRank.plot(amss,'b-')\n",
      "\n",
      "vsRank.axis([0,len(amss), 0, 4])\n",
      "\n",
      "plt.show()"
     ],
     "language": "python",
     "metadata": {},
     "outputs": [],
     "prompt_number": 64
    },
    {
     "cell_type": "markdown",
     "metadata": {},
     "source": [
      "Plotting the AMS vs the score."
     ]
    },
    {
     "cell_type": "code",
     "collapsed": false,
     "input": [
      "fig = plt.figure()\n",
      "fig.suptitle('MultiBoost AMS curves', fontsize=14, fontweight='bold')\n",
      "vsScore = fig.add_subplot(111)\n",
      "fig.subplots_adjust(top=0.85)\n",
      "\n",
      "vsScore.set_xlabel('score')\n",
      "vsScore.set_ylabel('AMS')\n",
      "\n",
      "vsScore.plot(scoresValidation[tIIs],amss,'b-')\n",
      "\n",
      "vsScore.axis([scoresValidation[tIIs[0]], scoresValidation[tIIs[-1]] , 0, 4])\n",
      "\n",
      "plt.show()"
     ],
     "language": "python",
     "metadata": {},
     "outputs": [],
     "prompt_number": 65
    },
    {
     "cell_type": "markdown",
     "metadata": {},
     "source": [
      "Constructing the submission file"
     ]
    },
    {
     "cell_type": "code",
     "collapsed": false,
     "input": [
      "allTest = list(csv.reader(open(\"../data/test.csv\",\"rb\"), delimiter=','))\n",
      "\n",
      "xsTest = normalize(allTest[1:], 1, 31)\n",
      "(numTestPoints, numTestFeatures) = xsTest.shape\n",
      "\n",
      "print numTestPoints, numFeatures, numTestFeatures"
     ],
     "language": "python",
     "metadata": {},
     "outputs": [
      {
       "output_type": "stream",
       "stream": "stdout",
       "text": [
        "550000 30 30\n"
       ]
      }
     ],
     "prompt_number": 66
    },
    {
     "cell_type": "code",
     "collapsed": false,
     "input": [
      "testIds = np.array([int(row[0]) for row in allTest[1:]])"
     ],
     "language": "python",
     "metadata": {},
     "outputs": [],
     "prompt_number": 67
    },
    {
     "cell_type": "code",
     "collapsed": false,
     "input": [
      "testScores = np.zeros(numTestPoints)\n",
      "\n",
      "for i in range(numTestPoints):\n",
      "    testScores[i] = net.activate(xsTest[i])[1]\n",
      "\n",
      "#print testScores.transpose()"
     ],
     "language": "python",
     "metadata": {},
     "outputs": [],
     "prompt_number": 68
    },
    {
     "cell_type": "markdown",
     "metadata": {},
     "source": [
      "Computing the rank order."
     ]
    },
    {
     "cell_type": "code",
     "collapsed": false,
     "input": [
      "testInversePermutation = testScores.argsort()"
     ],
     "language": "python",
     "metadata": {},
     "outputs": [],
     "prompt_number": 69
    },
    {
     "cell_type": "code",
     "collapsed": false,
     "input": [
      "testPermutation = list(testInversePermutation)\n",
      "for tI,tII in zip(range(len(testInversePermutation)), testInversePermutation):\n",
      "    testPermutation[tII] = tI"
     ],
     "language": "python",
     "metadata": {},
     "outputs": [],
     "prompt_number": 70
    },
    {
     "cell_type": "markdown",
     "metadata": {},
     "source": [
      "Computing the submission file with columns EventId, RankOrder, and Class."
     ]
    },
    {
     "cell_type": "code",
     "collapsed": false,
     "input": [
      "submission = np.array([[str(testIds[tI]),str(testPermutation[tI]+1),\n",
      "                       's' if testScores[tI] >= threshold else 'b'] \n",
      "            for tI in range(len(testIds))])"
     ],
     "language": "python",
     "metadata": {},
     "outputs": [],
     "prompt_number": 71
    },
    {
     "cell_type": "code",
     "collapsed": false,
     "input": [
      "submission = np.append([['EventId','RankOrder','Class']], submission, axis=0)\n",
      "\n",
      "np.savetxt(\"submission.csv\",submission,fmt='%s',delimiter=',')"
     ],
     "language": "python",
     "metadata": {},
     "outputs": [],
     "prompt_number": 72
    },
    {
     "cell_type": "code",
     "collapsed": false,
     "input": [],
     "language": "python",
     "metadata": {},
     "outputs": []
    }
   ],
   "metadata": {}
  }
 ]
}